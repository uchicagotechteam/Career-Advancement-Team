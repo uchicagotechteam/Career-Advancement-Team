{
 "cells": [
  {
   "cell_type": "code",
   "execution_count": 1,
   "metadata": {
    "colab": {},
    "colab_type": "code",
    "id": "nGeBvVVd7SU7"
   },
   "outputs": [],
   "source": [
    "from bs4 import BeautifulSoup"
   ]
  },
  {
   "cell_type": "code",
   "execution_count": 2,
   "metadata": {
    "colab": {},
    "colab_type": "code",
    "id": "LHXZs3Oq7lod"
   },
   "outputs": [],
   "source": [
    "import requests"
   ]
  },
  {
   "cell_type": "code",
   "execution_count": 3,
   "metadata": {},
   "outputs": [],
   "source": [
    "import pandas as pd"
   ]
  },
  {
   "cell_type": "code",
   "execution_count": 4,
   "metadata": {
    "colab": {},
    "colab_type": "code",
    "id": "K03BpSWe7rWj"
   },
   "outputs": [],
   "source": [
    "page_link = \"https://www.digitalundivided.com/incubator\""
   ]
  },
  {
   "cell_type": "code",
   "execution_count": 5,
   "metadata": {
    "colab": {},
    "colab_type": "code",
    "id": "0R9LjKBF8JgM"
   },
   "outputs": [],
   "source": [
    "page_response = requests.get(page_link, timeout=5)"
   ]
  },
  {
   "cell_type": "code",
   "execution_count": 6,
   "metadata": {
    "colab": {},
    "colab_type": "code",
    "id": "frr1_PHr8OaI"
   },
   "outputs": [],
   "source": [
    "soup = BeautifulSoup(page_response.content, \"html.parser\")"
   ]
  },
  {
   "cell_type": "code",
   "execution_count": 7,
   "metadata": {},
   "outputs": [],
   "source": [
    "job_containers = soup.find_all('div', class_ = 'margin-wrapper')"
   ]
  },
  {
   "cell_type": "code",
   "execution_count": 8,
   "metadata": {},
   "outputs": [],
   "source": [
    "descriptions = []\n",
    "links = []\n",
    "\n",
    "for container in job_containers:\n",
    "    \n",
    "    descript = container.find('div', class_ = 'image-slide-title')\n",
    "    descriptions.append(descript.text)\n",
    "\n",
    "    if container.find('a', href = True) is not None:\n",
    "        link = container.find('a', href = True)\n",
    "        links.append(link['href'])\n",
    "    else:\n",
    "        links.append(\"\")"
   ]
  },
  {
   "cell_type": "code",
   "execution_count": 9,
   "metadata": {},
   "outputs": [
    {
     "data": {
      "text/html": [
       "<div>\n",
       "<style scoped>\n",
       "    .dataframe tbody tr th:only-of-type {\n",
       "        vertical-align: middle;\n",
       "    }\n",
       "\n",
       "    .dataframe tbody tr th {\n",
       "        vertical-align: top;\n",
       "    }\n",
       "\n",
       "    .dataframe thead th {\n",
       "        text-align: right;\n",
       "    }\n",
       "</style>\n",
       "<table border=\"1\" class=\"dataframe\">\n",
       "  <thead>\n",
       "    <tr style=\"text-align: right;\">\n",
       "      <th></th>\n",
       "      <th>Company Info</th>\n",
       "      <th>Links</th>\n",
       "    </tr>\n",
       "  </thead>\n",
       "  <tbody>\n",
       "    <tr>\n",
       "      <th>0</th>\n",
       "      <td>BEAUTY IN COLOR is a B2B e-commerce platform t...</td>\n",
       "      <td></td>\n",
       "    </tr>\n",
       "    <tr>\n",
       "      <th>1</th>\n",
       "      <td>Film Connx is a digital talent marketplace and...</td>\n",
       "      <td></td>\n",
       "    </tr>\n",
       "    <tr>\n",
       "      <th>2</th>\n",
       "      <td>iME Cosmetics is a cutting-edge genderless mak...</td>\n",
       "      <td></td>\n",
       "    </tr>\n",
       "    <tr>\n",
       "      <th>3</th>\n",
       "      <td>Infinite Ag is digital broker of discounted pr...</td>\n",
       "      <td></td>\n",
       "    </tr>\n",
       "    <tr>\n",
       "      <th>4</th>\n",
       "      <td>i-Subz is a recruiting and placement platform ...</td>\n",
       "      <td></td>\n",
       "    </tr>\n",
       "    <tr>\n",
       "      <th>5</th>\n",
       "      <td>Love Home is an e-design and e-commerce platfo...</td>\n",
       "      <td></td>\n",
       "    </tr>\n",
       "    <tr>\n",
       "      <th>6</th>\n",
       "      <td>Pressed Roots is a time-saving solution for wo...</td>\n",
       "      <td></td>\n",
       "    </tr>\n",
       "    <tr>\n",
       "      <th>7</th>\n",
       "      <td>Vamos Ladies is a professional online communit...</td>\n",
       "      <td></td>\n",
       "    </tr>\n",
       "    <tr>\n",
       "      <th>8</th>\n",
       "      <td>We PLAY eLeague is an eSports league (eLeague)...</td>\n",
       "      <td></td>\n",
       "    </tr>\n",
       "    <tr>\n",
       "      <th>9</th>\n",
       "      <td>Captures real-time Text, Voice, and Data in no...</td>\n",
       "      <td>http://www.culpabilityapp.com/</td>\n",
       "    </tr>\n",
       "    <tr>\n",
       "      <th>10</th>\n",
       "      <td>Cloud-based blockchain music creation and real...</td>\n",
       "      <td>https://thelabz.com/</td>\n",
       "    </tr>\n",
       "    <tr>\n",
       "      <th>11</th>\n",
       "      <td>Creating mass media for diverse misfits.</td>\n",
       "      <td>http://quirktastic.co/</td>\n",
       "    </tr>\n",
       "    <tr>\n",
       "      <th>12</th>\n",
       "      <td>Members-only travel community and review site ...</td>\n",
       "      <td>https://solatravelers.com/</td>\n",
       "    </tr>\n",
       "    <tr>\n",
       "      <th>13</th>\n",
       "      <td>The first Money Management App for Black Women...</td>\n",
       "      <td>https://www.thriivemo.com</td>\n",
       "    </tr>\n",
       "    <tr>\n",
       "      <th>14</th>\n",
       "      <td>Matches diverse urban content creators with bu...</td>\n",
       "      <td>http://urbanchameleon.com</td>\n",
       "    </tr>\n",
       "  </tbody>\n",
       "</table>\n",
       "</div>"
      ],
      "text/plain": [
       "                                         Company Info  \\\n",
       "0   BEAUTY IN COLOR is a B2B e-commerce platform t...   \n",
       "1   Film Connx is a digital talent marketplace and...   \n",
       "2   iME Cosmetics is a cutting-edge genderless mak...   \n",
       "3   Infinite Ag is digital broker of discounted pr...   \n",
       "4   i-Subz is a recruiting and placement platform ...   \n",
       "5   Love Home is an e-design and e-commerce platfo...   \n",
       "6   Pressed Roots is a time-saving solution for wo...   \n",
       "7   Vamos Ladies is a professional online communit...   \n",
       "8   We PLAY eLeague is an eSports league (eLeague)...   \n",
       "9   Captures real-time Text, Voice, and Data in no...   \n",
       "10  Cloud-based blockchain music creation and real...   \n",
       "11           Creating mass media for diverse misfits.   \n",
       "12  Members-only travel community and review site ...   \n",
       "13  The first Money Management App for Black Women...   \n",
       "14  Matches diverse urban content creators with bu...   \n",
       "\n",
       "                             Links  \n",
       "0                                   \n",
       "1                                   \n",
       "2                                   \n",
       "3                                   \n",
       "4                                   \n",
       "5                                   \n",
       "6                                   \n",
       "7                                   \n",
       "8                                   \n",
       "9   http://www.culpabilityapp.com/  \n",
       "10            https://thelabz.com/  \n",
       "11          http://quirktastic.co/  \n",
       "12      https://solatravelers.com/  \n",
       "13       https://www.thriivemo.com  \n",
       "14       http://urbanchameleon.com  "
      ]
     },
     "execution_count": 9,
     "metadata": {},
     "output_type": "execute_result"
    }
   ],
   "source": [
    "df = pd.DataFrame({'Company Info': descriptions,\n",
    "                    'Links': links})\n",
    "df"
   ]
  },
  {
   "cell_type": "code",
   "execution_count": 10,
   "metadata": {},
   "outputs": [],
   "source": [
    "df.to_excel(\"output.xlsx\")"
   ]
  }
 ],
 "metadata": {
  "colab": {
   "name": "Untitled0.ipynb",
   "provenance": [],
   "version": "0.3.2"
  },
  "kernelspec": {
   "display_name": "Python 3",
   "language": "python",
   "name": "python3"
  },
  "language_info": {
   "codemirror_mode": {
    "name": "ipython",
    "version": 3
   },
   "file_extension": ".py",
   "mimetype": "text/x-python",
   "name": "python",
   "nbconvert_exporter": "python",
   "pygments_lexer": "ipython3",
   "version": "3.6.5"
  }
 },
 "nbformat": 4,
 "nbformat_minor": 1
}
