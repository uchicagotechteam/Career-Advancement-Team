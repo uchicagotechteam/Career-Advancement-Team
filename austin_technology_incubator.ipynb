{
 "cells": [
  {
   "cell_type": "code",
   "execution_count": 13,
   "metadata": {},
   "outputs": [],
   "source": [
    "import re\n",
    "from urllib.request import Request, urlopen\n",
    "import csv\n",
    "from bs4 import BeautifulSoup\n",
    "import pandas as pd"
   ]
  },
  {
   "cell_type": "code",
   "execution_count": 14,
   "metadata": {},
   "outputs": [],
   "source": [
    "url = 'https://ati.utexas.edu/companies/'"
   ]
  },
  {
   "cell_type": "code",
   "execution_count": 15,
   "metadata": {},
   "outputs": [],
   "source": [
    "# handle 403 Forbidden\n",
    "req = Request(url, headers={'User-Agent': 'Mozilla/5.0'})\n",
    "page_content = urlopen(req)\n",
    "soup = BeautifulSoup(page_content, 'html.parser')"
   ]
  },
  {
   "cell_type": "markdown",
   "metadata": {},
   "source": [
    "Instance of post:\n",
    "```html\n",
    "<a class=\"elementor-post__thumbnail__link\" href=\"https://ati.utexas.edu/company/amt/\">\n",
    "```\n",
    "Go to that link."
   ]
  },
  {
   "cell_type": "code",
   "execution_count": 21,
   "metadata": {},
   "outputs": [],
   "source": [
    "def parse_post(link):\n",
    "  link_content = BeautifulSoup(urlopen(link), 'html.parser')\n",
    "  containers = link_content.find_all('div', class_='elementor-image')\n",
    "  descs = link_content.find_all('div', class_='one_third')\n",
    "  titles = link_content.find_all('h1', class_='page-header-title')\n",
    "  name = containers[0].img['alt'].title()\n",
    "  try:\n",
    "    link = containers[1].a['href']\n",
    "  except:\n",
    "    link = ''\n",
    "    print(name + ' has no link')\n",
    "  title = titles[0].text\n",
    "  try:\n",
    "    desc = descs[0].p.text\n",
    "  except:\n",
    "    desc = ''\n",
    "    print(name + ' has no description')\n",
    "  ret = {'Name': name, 'Desc': desc, 'Link': link, 'Title': title}\n",
    "  return ret"
   ]
  },
  {
   "cell_type": "code",
   "execution_count": 22,
   "metadata": {},
   "outputs": [
    {
     "name": "stdout",
     "output_type": "stream",
     "text": [
      "New Dominion Enterprises has no description\n"
     ]
    },
    {
     "data": {
      "text/plain": [
       "{'Name': 'New Dominion Enterprises',\n",
       " 'Desc': '',\n",
       " 'Link': 'https://www.newdominionenterprises.com/',\n",
       " 'Title': 'New Dominion Enterprises – Safer and More Durable Lithium Batteries'}"
      ]
     },
     "execution_count": 22,
     "metadata": {},
     "output_type": "execute_result"
    }
   ],
   "source": [
    "link = posts[10]['href']  # individual link to go into\n",
    "parse_post(link)"
   ]
  },
  {
   "cell_type": "code",
   "execution_count": 16,
   "metadata": {},
   "outputs": [],
   "source": [
    "posts = soup.find_all('a', class_='elementor-post__thumbnail__link')"
   ]
  },
  {
   "cell_type": "code",
   "execution_count": 28,
   "metadata": {},
   "outputs": [
    {
     "name": "stdout",
     "output_type": "stream",
     "text": [
      "Analog Medical has no link\n",
      "Atom Mines has no description\n",
      "Big Wheelbarrow has no link\n",
      "Earthly Labs has no description\n",
      "Epg Eco Team has no link\n",
      "New Dominion Enterprises has no description\n"
     ]
    }
   ],
   "source": [
    "df = pd.DataFrame(columns=['Name', 'Desc', 'Link', 'Title'])\n",
    "for post in posts:\n",
    "  link = post['href']\n",
    "  df = df.append(parse_post(link), ignore_index=True)"
   ]
  },
  {
   "cell_type": "markdown",
   "metadata": {},
   "source": [
    "The resultant dataframe"
   ]
  },
  {
   "cell_type": "code",
   "execution_count": 29,
   "metadata": {
    "scrolled": true
   },
   "outputs": [
    {
     "data": {
      "text/html": [
       "<div>\n",
       "<style scoped>\n",
       "    .dataframe tbody tr th:only-of-type {\n",
       "        vertical-align: middle;\n",
       "    }\n",
       "\n",
       "    .dataframe tbody tr th {\n",
       "        vertical-align: top;\n",
       "    }\n",
       "\n",
       "    .dataframe thead th {\n",
       "        text-align: right;\n",
       "    }\n",
       "</style>\n",
       "<table border=\"1\" class=\"dataframe\">\n",
       "  <thead>\n",
       "    <tr style=\"text-align: right;\">\n",
       "      <th></th>\n",
       "      <th>Name</th>\n",
       "      <th>Desc</th>\n",
       "      <th>Link</th>\n",
       "      <th>Title</th>\n",
       "    </tr>\n",
       "  </thead>\n",
       "  <tbody>\n",
       "    <tr>\n",
       "      <th>0</th>\n",
       "      <td>Analog Medical</td>\n",
       "      <td>Analog medical technologies’ (AMT) mission is ...</td>\n",
       "      <td></td>\n",
       "      <td>Analog Medical – Empowering Patients with Chro...</td>\n",
       "    </tr>\n",
       "    <tr>\n",
       "      <th>1</th>\n",
       "      <td>Atom Mines</td>\n",
       "      <td></td>\n",
       "      <td>https://www.atommines.com/</td>\n",
       "      <td>Atom Mines – Separated Isotopes and Tailored I...</td>\n",
       "    </tr>\n",
       "    <tr>\n",
       "      <th>2</th>\n",
       "      <td>Big Wheelbarrow</td>\n",
       "      <td>We connect wholesale food buyers with local fa...</td>\n",
       "      <td></td>\n",
       "      <td>Big Wheelbarrow – Connects Wholesale Food Buye...</td>\n",
       "    </tr>\n",
       "    <tr>\n",
       "      <th>3</th>\n",
       "      <td>Earthly Labs</td>\n",
       "      <td></td>\n",
       "      <td>https://www.earthlylabs.com/</td>\n",
       "      <td>Earthly – Accessible Carbon Capture Technology</td>\n",
       "    </tr>\n",
       "    <tr>\n",
       "      <th>4</th>\n",
       "      <td>Epg Eco Team</td>\n",
       "      <td>EGP Eco’s environmentally-friendly, patented t...</td>\n",
       "      <td></td>\n",
       "      <td>EGP Eco – H2O Reduction Technology</td>\n",
       "    </tr>\n",
       "  </tbody>\n",
       "</table>\n",
       "</div>"
      ],
      "text/plain": [
       "              Name                                               Desc  \\\n",
       "0   Analog Medical  Analog medical technologies’ (AMT) mission is ...   \n",
       "1       Atom Mines                                                      \n",
       "2  Big Wheelbarrow  We connect wholesale food buyers with local fa...   \n",
       "3     Earthly Labs                                                      \n",
       "4     Epg Eco Team  EGP Eco’s environmentally-friendly, patented t...   \n",
       "\n",
       "                           Link  \\\n",
       "0                                 \n",
       "1    https://www.atommines.com/   \n",
       "2                                 \n",
       "3  https://www.earthlylabs.com/   \n",
       "4                                 \n",
       "\n",
       "                                               Title  \n",
       "0  Analog Medical – Empowering Patients with Chro...  \n",
       "1  Atom Mines – Separated Isotopes and Tailored I...  \n",
       "2  Big Wheelbarrow – Connects Wholesale Food Buye...  \n",
       "3     Earthly – Accessible Carbon Capture Technology  \n",
       "4                 EGP Eco – H2O Reduction Technology  "
      ]
     },
     "execution_count": 29,
     "metadata": {},
     "output_type": "execute_result"
    }
   ],
   "source": [
    "df.head()"
   ]
  },
  {
   "cell_type": "code",
   "execution_count": 30,
   "metadata": {},
   "outputs": [],
   "source": [
    "df.to_csv('ati.csv', index=False)"
   ]
  }
 ],
 "metadata": {
  "kernelspec": {
   "display_name": "Python 3",
   "language": "python",
   "name": "python3"
  },
  "language_info": {
   "codemirror_mode": {
    "name": "ipython",
    "version": 3
   },
   "file_extension": ".py",
   "mimetype": "text/x-python",
   "name": "python",
   "nbconvert_exporter": "python",
   "pygments_lexer": "ipython3",
   "version": "3.7.0"
  }
 },
 "nbformat": 4,
 "nbformat_minor": 2
}
