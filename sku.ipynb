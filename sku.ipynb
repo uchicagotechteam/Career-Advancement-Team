{
 "cells": [
  {
   "cell_type": "code",
   "execution_count": 16,
   "metadata": {},
   "outputs": [],
   "source": [
    "import re\n",
    "from urllib.request import Request, urlopen\n",
    "import csv\n",
    "from bs4 import BeautifulSoup\n",
    "import pandas as pd"
   ]
  },
  {
   "cell_type": "code",
   "execution_count": 17,
   "metadata": {},
   "outputs": [],
   "source": [
    "url = 'http://sku.is/alumni/'"
   ]
  },
  {
   "cell_type": "code",
   "execution_count": 18,
   "metadata": {},
   "outputs": [],
   "source": [
    "# handle 403 Forbidden\n",
    "req = Request(url, headers={'User-Agent': 'Mozilla/5.0'})\n",
    "page_content = urlopen(req)\n",
    "soup = BeautifulSoup(page_content, 'html.parser')"
   ]
  },
  {
   "cell_type": "markdown",
   "metadata": {},
   "source": [
    "Instance:\n",
    "```html\n",
    "<div class=\"wpb_column grve-column-1-4\">\n",
    "    <a href=\"https://www.guiltlessgoodies.com/\" target=\" _blank\" class=\" \">\n",
    "        <h6 class=\"grve-title grve-text-dark\">Guiltless Goodies</h6>\n",
    "        <span class=\"grve-caption grve-text-dark\">Healthy Goodies Made With Organic Super Seed Flour</span>\n",
    "```"
   ]
  },
  {
   "cell_type": "code",
   "execution_count": 58,
   "metadata": {
    "scrolled": true
   },
   "outputs": [],
   "source": [
    "links = soup.find_all('div', class_='grve-element')\n",
    "names = soup.find_all('h6', class_='grve-title')\n",
    "descs = soup.find_all('span', class_='grve-caption')"
   ]
  },
  {
   "cell_type": "markdown",
   "metadata": {},
   "source": [
    "This is how you access the name, the description and the link"
   ]
  },
  {
   "cell_type": "code",
   "execution_count": 59,
   "metadata": {
    "scrolled": true
   },
   "outputs": [
    {
     "data": {
      "text/plain": [
       "('https://chinookseedery.com/', 'Chinook', 'Small Batch Sunflower Seeds')"
      ]
     },
     "execution_count": 59,
     "metadata": {},
     "output_type": "execute_result"
    }
   ],
   "source": [
    "links[0].a['href'], names[0].text, descs[0].text"
   ]
  },
  {
   "cell_type": "code",
   "execution_count": 68,
   "metadata": {},
   "outputs": [
    {
     "name": "stdout",
     "output_type": "stream",
     "text": [
      "La Meca\n"
     ]
    }
   ],
   "source": [
    "df = pd.DataFrame(columns=['Name', 'Description', 'Link'])\n",
    "for nametag, desctag, linktag in zip(names, descs, links):\n",
    "  name = nametag.text\n",
    "  desc = desctag.text\n",
    "  try:\n",
    "    link = linktag.a['href']\n",
    "    df = df.append({'Name': name, \n",
    "                  'Description': desc,\n",
    "                  'Link': link}, \n",
    "            ignore_index=True)\n",
    "  except:\n",
    "    print(name)  # no link available\n",
    "    pass"
   ]
  },
  {
   "cell_type": "markdown",
   "metadata": {},
   "source": [
    "The resultant dataframe"
   ]
  },
  {
   "cell_type": "code",
   "execution_count": 69,
   "metadata": {
    "scrolled": true
   },
   "outputs": [
    {
     "data": {
      "text/html": [
       "<div>\n",
       "<style scoped>\n",
       "    .dataframe tbody tr th:only-of-type {\n",
       "        vertical-align: middle;\n",
       "    }\n",
       "\n",
       "    .dataframe tbody tr th {\n",
       "        vertical-align: top;\n",
       "    }\n",
       "\n",
       "    .dataframe thead th {\n",
       "        text-align: right;\n",
       "    }\n",
       "</style>\n",
       "<table border=\"1\" class=\"dataframe\">\n",
       "  <thead>\n",
       "    <tr style=\"text-align: right;\">\n",
       "      <th></th>\n",
       "      <th>Name</th>\n",
       "      <th>Description</th>\n",
       "      <th>Link</th>\n",
       "    </tr>\n",
       "  </thead>\n",
       "  <tbody>\n",
       "    <tr>\n",
       "      <th>0</th>\n",
       "      <td>Chinook</td>\n",
       "      <td>Small Batch Sunflower Seeds</td>\n",
       "      <td>https://chinookseedery.com/</td>\n",
       "    </tr>\n",
       "    <tr>\n",
       "      <th>1</th>\n",
       "      <td>Guiltless Goodies</td>\n",
       "      <td>Healthy Goodies Made With Organic Super Seed F...</td>\n",
       "      <td>https://www.guiltlessgoodies.com/</td>\n",
       "    </tr>\n",
       "    <tr>\n",
       "      <th>2</th>\n",
       "      <td>Meridian Hive</td>\n",
       "      <td>Award-Winning Modern Mead</td>\n",
       "      <td>https://www.meridianhive.com/</td>\n",
       "    </tr>\n",
       "    <tr>\n",
       "      <th>3</th>\n",
       "      <td>Mosie Baby</td>\n",
       "      <td>Insemination Syringe Designed by Women for Women</td>\n",
       "      <td>https://www.mosiebaby.com/</td>\n",
       "    </tr>\n",
       "    <tr>\n",
       "      <th>4</th>\n",
       "      <td>Pure Spoon</td>\n",
       "      <td>Nutrient-Packed, Cold-Pressed Baby Food</td>\n",
       "      <td>https://purespoon.com/</td>\n",
       "    </tr>\n",
       "  </tbody>\n",
       "</table>\n",
       "</div>"
      ],
      "text/plain": [
       "                Name                                        Description  \\\n",
       "0            Chinook                        Small Batch Sunflower Seeds   \n",
       "1  Guiltless Goodies  Healthy Goodies Made With Organic Super Seed F...   \n",
       "2      Meridian Hive                          Award-Winning Modern Mead   \n",
       "3         Mosie Baby   Insemination Syringe Designed by Women for Women   \n",
       "4         Pure Spoon            Nutrient-Packed, Cold-Pressed Baby Food   \n",
       "\n",
       "                                Link  \n",
       "0        https://chinookseedery.com/  \n",
       "1  https://www.guiltlessgoodies.com/  \n",
       "2      https://www.meridianhive.com/  \n",
       "3         https://www.mosiebaby.com/  \n",
       "4             https://purespoon.com/  "
      ]
     },
     "execution_count": 69,
     "metadata": {},
     "output_type": "execute_result"
    }
   ],
   "source": [
    "df.head()"
   ]
  },
  {
   "cell_type": "code",
   "execution_count": 70,
   "metadata": {},
   "outputs": [],
   "source": [
    "df.to_csv('sku.csv', index=False)"
   ]
  }
 ],
 "metadata": {
  "kernelspec": {
   "display_name": "Python 3",
   "language": "python",
   "name": "python3"
  },
  "language_info": {
   "codemirror_mode": {
    "name": "ipython",
    "version": 3
   },
   "file_extension": ".py",
   "mimetype": "text/x-python",
   "name": "python",
   "nbconvert_exporter": "python",
   "pygments_lexer": "ipython3",
   "version": "3.7.0"
  }
 },
 "nbformat": 4,
 "nbformat_minor": 2
}
