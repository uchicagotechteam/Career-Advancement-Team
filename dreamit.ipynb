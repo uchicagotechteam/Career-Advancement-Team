{
 "cells": [
  {
   "cell_type": "code",
   "execution_count": 163,
   "metadata": {},
   "outputs": [],
   "source": [
    "import re\n",
    "from urllib.request import urlopen\n",
    "import csv\n",
    "from bs4 import BeautifulSoup\n",
    "import pandas as pd"
   ]
  },
  {
   "cell_type": "code",
   "execution_count": 164,
   "metadata": {},
   "outputs": [],
   "source": [
    "url = 'https://www.dreamit.com/portfolio'"
   ]
  },
  {
   "cell_type": "code",
   "execution_count": 165,
   "metadata": {},
   "outputs": [],
   "source": [
    "page_content = urlopen(url)"
   ]
  },
  {
   "cell_type": "code",
   "execution_count": 166,
   "metadata": {},
   "outputs": [],
   "source": [
    "soup = BeautifulSoup(page_content, 'html.parser')"
   ]
  },
  {
   "cell_type": "code",
   "execution_count": 200,
   "metadata": {},
   "outputs": [
    {
     "data": {
      "text/plain": [
       "'utf-8'"
      ]
     },
     "execution_count": 200,
     "metadata": {},
     "output_type": "execute_result"
    }
   ],
   "source": [
    "soup.original_encoding"
   ]
  },
  {
   "cell_type": "markdown",
   "metadata": {},
   "source": [
    "Scrape Names and Links from the Highlighted Dreamit Companies section and all sections below \n",
    "This is a highlight instance:\n",
    "```html\n",
    "<a href=\"https://seatgeek.com/\" class=\"summary-thumbnail-container sqs-gallery-image-container\" data-title=\"SeatGeek\" data-description=\"&lt;p&gt;SeatGeek&amp;nbsp;is the Web&#39;s largest event ticket search engine.&lt;/p&gt;\">\n",
    "```"
   ]
  },
  {
   "cell_type": "code",
   "execution_count": 180,
   "metadata": {},
   "outputs": [],
   "source": [
    "highlights = soup.find_all('a', class_='summary-thumbnail-container')"
   ]
  },
  {
   "cell_type": "code",
   "execution_count": 215,
   "metadata": {},
   "outputs": [],
   "source": [
    "def parse_highlight(highlight):\n",
    "  \"\"\"Extract company name, description, and url\"\"\"\n",
    "  desc = highlight['data-description'].encode('utf-8').decode()\n",
    "  # need to first encode then decode to remove <p></p> tags\n",
    "  desc = re.sub(r'<p>|</p>|&nbsp;i', '', desc)\n",
    "  return highlight['data-title'], desc, \\\n",
    "highlight['href']"
   ]
  },
  {
   "cell_type": "code",
   "execution_count": 216,
   "metadata": {},
   "outputs": [],
   "source": [
    "df = pd.DataFrame(columns=['Name', 'Description', 'Link'])"
   ]
  },
  {
   "cell_type": "code",
   "execution_count": 217,
   "metadata": {},
   "outputs": [],
   "source": [
    "for highlight in highlights:\n",
    "  name, desc, link = parse_highlight(highlight)\n",
    "  df = df.append({'Name': name, \n",
    "                  'Description': desc,\n",
    "                  'Link': link}, \n",
    "            ignore_index=True)"
   ]
  },
  {
   "cell_type": "markdown",
   "metadata": {},
   "source": [
    "The resultant dataframe"
   ]
  },
  {
   "cell_type": "code",
   "execution_count": 218,
   "metadata": {
    "scrolled": false
   },
   "outputs": [
    {
     "data": {
      "text/html": [
       "<div>\n",
       "<style scoped>\n",
       "    .dataframe tbody tr th:only-of-type {\n",
       "        vertical-align: middle;\n",
       "    }\n",
       "\n",
       "    .dataframe tbody tr th {\n",
       "        vertical-align: top;\n",
       "    }\n",
       "\n",
       "    .dataframe thead th {\n",
       "        text-align: right;\n",
       "    }\n",
       "</style>\n",
       "<table border=\"1\" class=\"dataframe\">\n",
       "  <thead>\n",
       "    <tr style=\"text-align: right;\">\n",
       "      <th></th>\n",
       "      <th>Name</th>\n",
       "      <th>Description</th>\n",
       "      <th>Link</th>\n",
       "    </tr>\n",
       "  </thead>\n",
       "  <tbody>\n",
       "    <tr>\n",
       "      <th>0</th>\n",
       "      <td>LevelUp</td>\n",
       "      <td>LevelUp is the largest open mobile payments ne...</td>\n",
       "      <td>https://www.thelevelup.com/</td>\n",
       "    </tr>\n",
       "    <tr>\n",
       "      <th>1</th>\n",
       "      <td>Houseparty</td>\n",
       "      <td>Houseparty (formerly Life on Air/Meerkat) is a...</td>\n",
       "      <td>https://houseparty.com/</td>\n",
       "    </tr>\n",
       "    <tr>\n",
       "      <th>2</th>\n",
       "      <td>SeatGeek</td>\n",
       "      <td>SeatGeeks the Web's largest event ticket searc...</td>\n",
       "      <td>https://seatgeek.com/</td>\n",
       "    </tr>\n",
       "    <tr>\n",
       "      <th>3</th>\n",
       "      <td>Redox</td>\n",
       "      <td>Redox manages and scales healthcare interopera...</td>\n",
       "      <td>https://www.redoxengine.com/</td>\n",
       "    </tr>\n",
       "    <tr>\n",
       "      <th>4</th>\n",
       "      <td>Wellth</td>\n",
       "      <td>Wellth helps patients change their behaviors u...</td>\n",
       "      <td>https://wellthapp.com/home</td>\n",
       "    </tr>\n",
       "  </tbody>\n",
       "</table>\n",
       "</div>"
      ],
      "text/plain": [
       "         Name                                        Description  \\\n",
       "0     LevelUp  LevelUp is the largest open mobile payments ne...   \n",
       "1  Houseparty  Houseparty (formerly Life on Air/Meerkat) is a...   \n",
       "2    SeatGeek  SeatGeeks the Web's largest event ticket searc...   \n",
       "3       Redox  Redox manages and scales healthcare interopera...   \n",
       "4      Wellth  Wellth helps patients change their behaviors u...   \n",
       "\n",
       "                           Link  \n",
       "0   https://www.thelevelup.com/  \n",
       "1       https://houseparty.com/  \n",
       "2         https://seatgeek.com/  \n",
       "3  https://www.redoxengine.com/  \n",
       "4    https://wellthapp.com/home  "
      ]
     },
     "execution_count": 218,
     "metadata": {},
     "output_type": "execute_result"
    }
   ],
   "source": [
    "df.head()"
   ]
  },
  {
   "cell_type": "code",
   "execution_count": 195,
   "metadata": {},
   "outputs": [],
   "source": [
    "df.to_csv('dreamit.csv', index=False)"
   ]
  }
 ],
 "metadata": {
  "kernelspec": {
   "display_name": "Python 3",
   "language": "python",
   "name": "python3"
  },
  "language_info": {
   "codemirror_mode": {
    "name": "ipython",
    "version": 3
   },
   "file_extension": ".py",
   "mimetype": "text/x-python",
   "name": "python",
   "nbconvert_exporter": "python",
   "pygments_lexer": "ipython3",
   "version": "3.7.0"
  }
 },
 "nbformat": 4,
 "nbformat_minor": 2
}
